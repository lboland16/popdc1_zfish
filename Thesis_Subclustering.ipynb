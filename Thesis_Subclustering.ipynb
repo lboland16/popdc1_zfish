{
 "cells": [
  {
   "cell_type": "code",
   "execution_count": null,
   "metadata": {},
   "outputs": [],
   "source": []
  },
  {
   "cell_type": "code",
   "execution_count": 1,
   "metadata": {},
   "outputs": [
    {
     "name": "stderr",
     "output_type": "stream",
     "text": [
      "WARNING: If you miss a compact list, please try `print_header`!\n"
     ]
    },
    {
     "name": "stdout",
     "output_type": "stream",
     "text": [
      "-----\n",
      "anndata     0.7.5\n",
      "scanpy      1.7.0\n",
      "sinfo       0.3.1\n",
      "-----\n",
      "PIL                 8.1.0\n",
      "anndata             0.7.5\n",
      "backcall            0.1.0\n",
      "cffi                1.14.0\n",
      "cloudpickle         1.6.0\n",
      "colorama            0.4.4\n",
      "cycler              0.10.0\n",
      "cython_runtime      NA\n",
      "cytoolz             0.11.0\n",
      "dask                2021.02.0\n",
      "dateutil            2.8.1\n",
      "decorator           4.4.2\n",
      "get_version         2.1\n",
      "h5py                2.10.0\n",
      "harmonypy           NA\n",
      "igraph              0.7.1\n",
      "importlib_metadata  1.5.0\n",
      "ipykernel           5.1.4\n",
      "ipython_genutils    0.2.0\n",
      "jedi                0.16.0\n",
      "joblib              1.0.1\n",
      "kiwisolver          1.3.1\n",
      "legacy_api_wrap     0.0.0\n",
      "leidenalg           0.8.2\n",
      "llvmlite            0.34.0\n",
      "matplotlib          3.2.1\n",
      "mkl                 2.3.0\n",
      "mpl_toolkits        NA\n",
      "natsort             7.1.1\n",
      "numba               0.51.2\n",
      "numexpr             2.7.2\n",
      "numpy               1.19.2\n",
      "packaging           20.9\n",
      "pandas              1.1.5\n",
      "parso               0.6.2\n",
      "pexpect             4.8.0\n",
      "pickleshare         0.7.5\n",
      "pkg_resources       NA\n",
      "prompt_toolkit      3.0.3\n",
      "ptyprocess          0.6.0\n",
      "pycparser           2.20\n",
      "pygments            2.6.1\n",
      "pynndescent         0.5.2\n",
      "pyparsing           2.4.7\n",
      "pytz                2021.1\n",
      "scanpy              1.7.0\n",
      "scipy               1.5.2\n",
      "scrublet            NA\n",
      "seaborn             0.11.1\n",
      "setuptools_scm      NA\n",
      "sinfo               0.3.1\n",
      "six                 1.14.0\n",
      "sklearn             0.23.2\n",
      "sphinxcontrib       NA\n",
      "statsmodels         0.12.2\n",
      "storemagic          NA\n",
      "tables              3.6.1\n",
      "tlz                 0.11.0\n",
      "toolz               0.11.1\n",
      "tornado             6.0.4\n",
      "traitlets           4.3.3\n",
      "umap                0.5.1\n",
      "wcwidth             NA\n",
      "yaml                5.4.1\n",
      "zipp                NA\n",
      "zmq                 18.1.1\n",
      "-----\n",
      "IPython             7.13.0\n",
      "jupyter_client      6.1.0\n",
      "jupyter_core        4.6.1\n",
      "notebook            6.0.3\n",
      "-----\n",
      "Python 3.6.10 |Anaconda, Inc.| (default, Mar 23 2020, 23:13:11) [GCC 7.3.0]\n",
      "Linux-4.18.0-193.6.3.el8_2.x86_64-x86_64-with-centos-8.2.2004-Core\n",
      "24 logical CPU cores, x86_64\n",
      "-----\n",
      "Session information updated at 2021-05-21 16:20\n",
      "\n"
     ]
    }
   ],
   "source": [
    "import numpy as np\n",
    "import pandas as pd\n",
    "import anndata\n",
    "import scanpy as sc\n",
    "import seaborn as sns\n",
    "import harmonypy as hm\n",
    "import scrublet as scr\n",
    "from matplotlib import rcParams\n",
    "import umap\n",
    "\n",
    "sc.settings.verbosity = 1  # verbosity: errors (0), warnings (1), info (2), hints (3)\n",
    "sc.settings.set_figure_params(dpi=120, color_map='viridis')\n",
    "sc.logging.print_versions()"
   ]
  },
  {
   "cell_type": "code",
   "execution_count": 2,
   "metadata": {},
   "outputs": [],
   "source": [
    "def DEG_table(adata):\n",
    "    result = adata.uns['rank_genes_groups']\n",
    "    groups = result['names'].dtype.names\n",
    "    markers = pd.DataFrame(\n",
    "    {group + '_' + key[:1]: result[key][group]\n",
    "        for group in groups for key in ['names', 'pvals_adj', 'logfoldchanges']})\n",
    "    return markers"
   ]
  },
  {
   "cell_type": "code",
   "execution_count": 3,
   "metadata": {},
   "outputs": [],
   "source": [
    "def filtered_DEGs(adata, q_value = 1E-5, fold_change = 1):\n",
    "    markers = DEG_table(adata)\n",
    "    groups = adata.uns['rank_genes_groups']['names'].dtype.names\n",
    "    output = pd.DataFrame()\n",
    "    for i in groups:\n",
    "        temp = markers[(markers.loc[:,i+'_p'] <= q_value) & (markers.loc[:,i+'_l'] >= fold_change)].loc[:,(i+'_n'):(i+'_l')]\n",
    "        temp.reset_index(inplace=True, drop=True)\n",
    "        output = output.join(temp, how='outer')\n",
    "    return output"
   ]
  },
  {
   "cell_type": "code",
   "execution_count": 4,
   "metadata": {},
   "outputs": [],
   "source": [
    "def filtered_DEG_names(adata, q_value = 1E-5, fold_change = 1):\n",
    "    markers = DEG_table(adata)\n",
    "    groups = adata.uns['rank_genes_groups']['names'].dtype.names\n",
    "    output = pd.DataFrame()\n",
    "    for i in groups:\n",
    "        temp = markers[(markers.loc[:,i+'_p'] <= q_value) & (markers.loc[:,i+'_l'] >= fold_change)].loc[:,(i+'_n')]\n",
    "        temp.reset_index(inplace=True, drop=True)\n",
    "        output = output.join(temp, how='outer')\n",
    "    return output"
   ]
  },
  {
   "cell_type": "code",
   "execution_count": 5,
   "metadata": {},
   "outputs": [],
   "source": [
    "def filtered_down_reg_DEGs(adata, q_value = 1E-5, fold_change = -1):\n",
    "    markers = DEG_table(adata)\n",
    "    groups = adata.uns['rank_genes_groups']['names'].dtype.names\n",
    "    output = pd.DataFrame()\n",
    "    for i in groups:\n",
    "        temp = markers[(markers.loc[:,i+'_p'] <= q_value) & (markers.loc[:,i+'_l'] <= fold_change)].loc[:,(i+'_n'):(i+'_l')]\n",
    "        temp.reset_index(inplace=True, drop=True)\n",
    "        output = output.join(temp, how='outer')\n",
    "    return output"
   ]
  },
  {
   "cell_type": "code",
   "execution_count": 6,
   "metadata": {},
   "outputs": [],
   "source": [
    "adata_orig = sc.read_h5ad('./QC_global_zfish_ven.h5ad')"
   ]
  },
  {
   "cell_type": "code",
   "execution_count": 7,
   "metadata": {},
   "outputs": [
    {
     "data": {
      "text/plain": [
       "AnnData object with n_obs × n_vars = 7422 × 4868\n",
       "    obs: 'n_genes', 'percent_mito', 'n_counts', 'log_counts', 'percent_ribo', 'scrublet_score', 'genotype', 'Source', 'Region', 'Sample_Number', 'Sample', 'batch', 'leiden_01', 'leiden_011', 'leiden_012', 'leiden_013', 'leiden_014', 'leiden_015', 'leiden_016', 'leiden_017', 'leiden_018', 'leiden_019', 'leiden_02', 'leiden_021', 'leiden_022', 'leiden_023', 'leiden_024', 'leiden_025', 'leiden_026', 'leiden_027', 'leiden_028', 'leiden_029', 'leiden_03', 'leiden_031', 'leiden_032', 'leiden_033', 'leiden_034', 'leiden_035', 'leiden_036', 'leiden_037', 'leiden_038', 'leiden_039', 'leiden', 'leiden_annotation', 'cell_type'\n",
       "    var: 'gene_ids', 'feature_types', 'highly_variable', 'means', 'dispersions', 'dispersions_norm', 'mean', 'std'\n",
       "    uns: 'Sample_colors', 'dendrogram_leiden', 'genotype_colors', 'hvg', 'leiden', 'leiden_011_colors', 'leiden_012_colors', 'leiden_013_colors', 'leiden_014_colors', 'leiden_015_colors', 'leiden_016_colors', 'leiden_017_colors', 'leiden_018_colors', 'leiden_019_colors', 'leiden_01_colors', 'leiden_021_colors', 'leiden_022_colors', 'leiden_023_colors', 'leiden_024_colors', 'leiden_025_colors', 'leiden_026_colors', 'leiden_027_colors', 'leiden_028_colors', 'leiden_029_colors', 'leiden_02_colors', 'leiden_031_colors', 'leiden_032_colors', 'leiden_033_colors', 'leiden_034_colors', 'leiden_035_colors', 'leiden_036_colors', 'leiden_037_colors', 'leiden_038_colors', 'leiden_039_colors', 'leiden_03_colors', 'leiden_colors', 'neighbors', 'pca', 'rank_genes_groups', 'umap'\n",
       "    obsm: 'X_pca', 'X_umap'\n",
       "    varm: 'PCs'\n",
       "    obsp: 'connectivities', 'distances'"
      ]
     },
     "execution_count": 7,
     "metadata": {},
     "output_type": "execute_result"
    }
   ],
   "source": [
    "adata_orig"
   ]
  },
  {
   "cell_type": "code",
   "execution_count": 8,
   "metadata": {},
   "outputs": [
    {
     "data": {
      "text/plain": [
       "(7422, 4868)"
      ]
     },
     "execution_count": 8,
     "metadata": {},
     "output_type": "execute_result"
    }
   ],
   "source": [
    "adata_orig.shape"
   ]
  },
  {
   "cell_type": "code",
   "execution_count": 9,
   "metadata": {},
   "outputs": [
    {
     "name": "stdout",
     "output_type": "stream",
     "text": [
      "10.0\n",
      "239.0\n"
     ]
    }
   ],
   "source": [
    "print(adata_orig.X.max())\n",
    "print(adata_orig.raw.X.max())"
   ]
  },
  {
   "cell_type": "code",
   "execution_count": 10,
   "metadata": {},
   "outputs": [
    {
     "data": {
      "image/png": "[encoded data removed]",
      "text/plain": [
       "<Figure size 480x480 with 1 Axes>"
      ]
     },
     "metadata": {},
     "output_type": "display_data"
    }
   ],
   "source": [
    "sc.pl.umap(adata_orig, color = ['cell_type',\n",
    "                              ], size = 6, legend_fontsize = 10, frameon = False, use_raw=True, color_map='tab10' )"
   ]
  },
  {
   "cell_type": "code",
   "execution_count": 11,
   "metadata": {},
   "outputs": [],
   "source": [
    "adata_AV = adata_orig[adata_orig.obs['cell_type'].isin(['AV/ Ventricular Conduction Cells'])].copy()"
   ]
  },
  {
   "cell_type": "code",
   "execution_count": 12,
   "metadata": {},
   "outputs": [],
   "source": [
    "adata_CM1 = adata_orig[adata_orig.obs['cell_type'].isin(['CM1'])].copy()"
   ]
  },
  {
   "cell_type": "code",
   "execution_count": 13,
   "metadata": {},
   "outputs": [],
   "source": [
    "adata_CM2 = adata_orig[adata_orig.obs['cell_type'].isin(['CM2'])].copy()"
   ]
  },
  {
   "cell_type": "code",
   "execution_count": 14,
   "metadata": {},
   "outputs": [],
   "source": [
    "adata_CM4 = adata_orig[adata_orig.obs['cell_type'].isin(['CM4'])].copy()"
   ]
  },
  {
   "cell_type": "code",
   "execution_count": 15,
   "metadata": {},
   "outputs": [],
   "source": [
    "adata_EC1 = adata_orig[adata_orig.obs['cell_type'].isin(['Endothelial Cells'])].copy()"
   ]
  },
  {
   "cell_type": "code",
   "execution_count": 16,
   "metadata": {},
   "outputs": [],
   "source": [
    "adata_EC2 = adata_orig[adata_orig.obs['cell_type'].isin(['Endothelial Cells 2'])].copy()"
   ]
  },
  {
   "cell_type": "code",
   "execution_count": 17,
   "metadata": {},
   "outputs": [],
   "source": [
    "adata_ER = adata_orig[adata_orig.obs['cell_type'].isin(['Erythrocytes'])].copy()"
   ]
  },
  {
   "cell_type": "code",
   "execution_count": 18,
   "metadata": {},
   "outputs": [],
   "source": [
    "adata_F = adata_orig[adata_orig.obs['cell_type'].isin(['Fibroblasts'])].copy()"
   ]
  },
  {
   "cell_type": "code",
   "execution_count": 19,
   "metadata": {},
   "outputs": [],
   "source": [
    "adata_I = adata_orig[adata_orig.obs['cell_type'].isin(['Immune Cells'])].copy()"
   ]
  },
  {
   "cell_type": "code",
   "execution_count": 20,
   "metadata": {},
   "outputs": [],
   "source": [
    "adata_P = adata_orig[adata_orig.obs['cell_type'].isin(['Pericytes'])].copy()"
   ]
  },
  {
   "cell_type": "code",
   "execution_count": 21,
   "metadata": {},
   "outputs": [],
   "source": [
    "adata_VAS = adata_orig[adata_orig.obs['cell_type'].isin(['Vasculature Cells'])].copy()"
   ]
  },
  {
   "cell_type": "code",
   "execution_count": 22,
   "metadata": {},
   "outputs": [],
   "source": [
    "adata_wt = adata_orig[adata_orig.obs['genotype'].isin(['wildtype'])].copy()"
   ]
  },
  {
   "cell_type": "code",
   "execution_count": 24,
   "metadata": {},
   "outputs": [],
   "source": [
    "adata_p1 = adata_orig[adata_orig.obs['genotype'].isin(['popdc1 null'])].copy()"
   ]
  },
  {
   "cell_type": "code",
   "execution_count": 25,
   "metadata": {},
   "outputs": [],
   "source": [
    "adata_wt_cm = adata_wt[adata_wt.obs['cell_type'].isin(['CM1','CM2','CM4'])].copy()"
   ]
  },
  {
   "cell_type": "code",
   "execution_count": 26,
   "metadata": {},
   "outputs": [],
   "source": [
    "adata_out = anndata.AnnData(X=adata_AV.raw.X, obs=adata_AV.obs, var=adata_AV.raw.var, obsm=adata_AV.obsm).copy()\n",
    "adata_out.write('./AV_zfish_ven_RAW.h5ad')"
   ]
  },
  {
   "cell_type": "code",
   "execution_count": 27,
   "metadata": {},
   "outputs": [],
   "source": [
    "adata_out = anndata.AnnData(X=adata_CM1.raw.X, obs=adata_CM1.obs, var=adata_CM1.raw.var, obsm=adata_CM1.obsm).copy()\n",
    "adata_out.write('./CM1_zfish_ven_RAW.h5ad')"
   ]
  },
  {
   "cell_type": "code",
   "execution_count": 28,
   "metadata": {},
   "outputs": [],
   "source": [
    "adata_out = anndata.AnnData(X=adata_CM2.raw.X, obs=adata_CM2.obs, var=adata_CM2.raw.var, obsm=adata_CM2.obsm).copy()\n",
    "adata_out.write('./CM2_zfish_ven_RAW.h5ad')"
   ]
  },
  {
   "cell_type": "code",
   "execution_count": 29,
   "metadata": {},
   "outputs": [],
   "source": [
    "adata_out = anndata.AnnData(X=adata_CM4.raw.X, obs=adata_CM4.obs, var=adata_CM4.raw.var, obsm=adata_CM4.obsm).copy()\n",
    "adata_out.write('./CM4_zfish_ven_RAW.h5ad')"
   ]
  },
  {
   "cell_type": "code",
   "execution_count": 30,
   "metadata": {},
   "outputs": [],
   "source": [
    "adata_out = anndata.AnnData(X=adata_EC1.raw.X, obs=adata_EC1.obs, var=adata_EC1.raw.var, obsm=adata_EC1.obsm).copy()\n",
    "adata_out.write('./EC1_zfish_ven_RAW.h5ad')"
   ]
  },
  {
   "cell_type": "code",
   "execution_count": 31,
   "metadata": {},
   "outputs": [],
   "source": [
    "adata_out = anndata.AnnData(X=adata_EC2.raw.X, obs=adata_EC2.obs, var=adata_EC2.raw.var, obsm=adata_EC2.obsm).copy()\n",
    "adata_out.write('./EC2_zfish_ven_RAW.h5ad')"
   ]
  },
  {
   "cell_type": "code",
   "execution_count": 32,
   "metadata": {},
   "outputs": [],
   "source": [
    "adata_out = anndata.AnnData(X=adata_ER.raw.X, obs=adata_ER.obs, var=adata_ER.raw.var, obsm=adata_ER.obsm).copy()\n",
    "adata_out.write('./ER_zfish_ven_RAW.h5ad')"
   ]
  },
  {
   "cell_type": "code",
   "execution_count": 33,
   "metadata": {},
   "outputs": [],
   "source": [
    "adata_out = anndata.AnnData(X=adata_F.raw.X, obs=adata_F.obs, var=adata_F.raw.var, obsm=adata_F.obsm).copy()\n",
    "adata_out.write('./F_zfish_ven_RAW.h5ad')"
   ]
  },
  {
   "cell_type": "code",
   "execution_count": 34,
   "metadata": {},
   "outputs": [],
   "source": [
    "adata_out = anndata.AnnData(X=adata_P.raw.X, obs=adata_P.obs, var=adata_P.raw.var, obsm=adata_P.obsm).copy()\n",
    "adata_out.write('./P_zfish_ven_RAW.h5ad')"
   ]
  },
  {
   "cell_type": "code",
   "execution_count": 35,
   "metadata": {},
   "outputs": [],
   "source": [
    "adata_out = anndata.AnnData(X=adata_I.raw.X, obs=adata_I.obs, var=adata_I.raw.var, obsm=adata_I.obsm).copy()\n",
    "adata_out.write('./I_zfish_ven_RAW.h5ad')"
   ]
  },
  {
   "cell_type": "code",
   "execution_count": 36,
   "metadata": {},
   "outputs": [],
   "source": [
    "adata_out = anndata.AnnData(X=adata_VAS.raw.X, obs=adata_VAS.obs, var=adata_VAS.raw.var, obsm=adata_VAS.obsm).copy()\n",
    "adata_out.write('./VAS_zfish_ven_RAW.h5ad')"
   ]
  },
  {
   "cell_type": "code",
   "execution_count": 37,
   "metadata": {},
   "outputs": [],
   "source": [
    "adata_out = anndata.AnnData(X=adata_wt_cm.raw.X, obs=adata_wt_cm.obs, var=adata_wt_cm.raw.var, obsm=adata_wt_cm.obsm).copy()\n",
    "adata_out.write('./wt_zfish_ven_RAW.h5ad')"
   ]
  },
  {
   "cell_type": "code",
   "execution_count": 38,
   "metadata": {},
   "outputs": [],
   "source": [
    "adata_out = anndata.AnnData(X=adata_p1.raw.X, obs=adata_p1.obs, var=adata_p1.raw.var, obsm=adata_p1.obsm).copy()\n",
    "adata_out.write('./p1_zfish_ven_RAW.h5ad')"
   ]
  },
  {
   "cell_type": "code",
   "execution_count": 39,
   "metadata": {},
   "outputs": [],
   "source": [
    "adata_out = anndata.AnnData(X=adata_wt.raw.X, obs=adata_wt.obs, var=adata_wt.raw.var, obsm=adata_wt.obsm).copy()\n",
    "adata_out.write('./wto_zfish_ven_RAW.h5ad')"
   ]
  },
  {
   "cell_type": "code",
   "execution_count": null,
   "metadata": {},
   "outputs": [],
   "source": []
  }
 ],
 "metadata": {
  "kernelspec": {
   "display_name": "Python [conda env:scanpy2]",
   "language": "python",
   "name": "conda-env-scanpy2-py"
  },
  "language_info": {
   "codemirror_mode": {
    "name": "ipython",
    "version": 3
   },
   "file_extension": ".py",
   "mimetype": "text/x-python",
   "name": "python",
   "nbconvert_exporter": "python",
   "pygments_lexer": "ipython3",
   "version": "3.6.10"
  }
 },
 "nbformat": 4,
 "nbformat_minor": 2
}
