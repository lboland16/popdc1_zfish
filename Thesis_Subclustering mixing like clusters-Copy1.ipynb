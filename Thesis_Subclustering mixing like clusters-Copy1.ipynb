{
 "cells": [
  {
   "cell_type": "code",
   "execution_count": null,
   "metadata": {},
   "outputs": [],
   "source": []
  },
  {
   "cell_type": "code",
   "execution_count": null,
   "metadata": {},
   "outputs": [],
   "source": [
    "import numpy as np\n",
    "import pandas as pd\n",
    "import anndata\n",
    "import scanpy as sc\n",
    "import seaborn as sns\n",
    "import harmonypy as hm\n",
    "import scrublet as scr\n",
    "from matplotlib import rcParams\n",
    "import umap\n",
    "\n",
    "sc.settings.verbosity = 1  # verbosity: errors (0), warnings (1), info (2), hints (3)\n",
    "sc.settings.set_figure_params(dpi=120, color_map='viridis')\n",
    "sc.logging.print_versions()"
   ]
  },
  {
   "cell_type": "code",
   "execution_count": null,
   "metadata": {},
   "outputs": [],
   "source": [
    "def DEG_table(adata):\n",
    "    result = adata.uns['rank_genes_groups']\n",
    "    groups = result['names'].dtype.names\n",
    "    markers = pd.DataFrame(\n",
    "    {group + '_' + key[:1]: result[key][group]\n",
    "        for group in groups for key in ['names', 'pvals_adj', 'logfoldchanges']})\n",
    "    return markers"
   ]
  },
  {
   "cell_type": "code",
   "execution_count": null,
   "metadata": {},
   "outputs": [],
   "source": [
    "def filtered_DEGs(adata, q_value = 1E-5, fold_change = 1):\n",
    "    markers = DEG_table(adata)\n",
    "    groups = adata.uns['rank_genes_groups']['names'].dtype.names\n",
    "    output = pd.DataFrame()\n",
    "    for i in groups:\n",
    "        temp = markers[(markers.loc[:,i+'_p'] <= q_value) & (markers.loc[:,i+'_l'] >= fold_change)].loc[:,(i+'_n'):(i+'_l')]\n",
    "        temp.reset_index(inplace=True, drop=True)\n",
    "        output = output.join(temp, how='outer')\n",
    "    return output"
   ]
  },
  {
   "cell_type": "code",
   "execution_count": null,
   "metadata": {},
   "outputs": [],
   "source": [
    "def filtered_DEG_names(adata, q_value = 1E-5, fold_change = 1):\n",
    "    markers = DEG_table(adata)\n",
    "    groups = adata.uns['rank_genes_groups']['names'].dtype.names\n",
    "    output = pd.DataFrame()\n",
    "    for i in groups:\n",
    "        temp = markers[(markers.loc[:,i+'_p'] <= q_value) & (markers.loc[:,i+'_l'] >= fold_change)].loc[:,(i+'_n')]\n",
    "        temp.reset_index(inplace=True, drop=True)\n",
    "        output = output.join(temp, how='outer')\n",
    "    return output"
   ]
  },
  {
   "cell_type": "code",
   "execution_count": null,
   "metadata": {},
   "outputs": [],
   "source": [
    "def filtered_down_reg_DEGs(adata, q_value = 1E-5, fold_change = -1):\n",
    "    markers = DEG_table(adata)\n",
    "    groups = adata.uns['rank_genes_groups']['names'].dtype.names\n",
    "    output = pd.DataFrame()\n",
    "    for i in groups:\n",
    "        temp = markers[(markers.loc[:,i+'_p'] <= q_value) & (markers.loc[:,i+'_l'] <= fold_change)].loc[:,(i+'_n'):(i+'_l')]\n",
    "        temp.reset_index(inplace=True, drop=True)\n",
    "        output = output.join(temp, how='outer')\n",
    "    return output"
   ]
  },
  {
   "cell_type": "code",
   "execution_count": null,
   "metadata": {},
   "outputs": [],
   "source": [
    "adata_orig = sc.read_h5ad('./QC_global_zfish_ven.h5ad')"
   ]
  },
  {
   "cell_type": "code",
   "execution_count": null,
   "metadata": {},
   "outputs": [],
   "source": [
    "adata_orig"
   ]
  },
  {
   "cell_type": "code",
   "execution_count": null,
   "metadata": {},
   "outputs": [],
   "source": [
    "adata_orig.shape"
   ]
  },
  {
   "cell_type": "code",
   "execution_count": null,
   "metadata": {},
   "outputs": [],
   "source": [
    "print(adata_orig.X.max())\n",
    "print(adata_orig.raw.X.max())"
   ]
  },
  {
   "cell_type": "code",
   "execution_count": null,
   "metadata": {},
   "outputs": [],
   "source": [
    "sc.pl.umap(adata_orig, color = ['cell_type',\n",
    "                              ], size = 6, legend_fontsize = 10, frameon = False, use_raw=True, color_map='tab10' )"
   ]
  },
  {
   "cell_type": "code",
   "execution_count": null,
   "metadata": {},
   "outputs": [],
   "source": [
    "adata_CMs = adata_orig[adata_orig.obs['cell_type'].isin(['CM1','CM2','CM4'])].copy()"
   ]
  },
  {
   "cell_type": "code",
   "execution_count": null,
   "metadata": {},
   "outputs": [],
   "source": [
    "adata_ECs = adata_orig[adata_orig.obs['cell_type'].isin(['Endothelial Cells','Endothelial Cells 2'])].copy()"
   ]
  },
  {
   "cell_type": "code",
   "execution_count": null,
   "metadata": {},
   "outputs": [],
   "source": [
    "adata_EC2s = adata_orig[adata_orig.obs['cell_type'].isin(['Endothelial Cells','Endothelial Cells 2','Vasculature Cells'])].copy()"
   ]
  },
  {
   "cell_type": "code",
   "execution_count": null,
   "metadata": {},
   "outputs": [],
   "source": [
    "adata_out = anndata.AnnData(X=adata_CMs.raw.X, obs=adata_CMs.obs, var=adata_CMs.raw.var, obsm=adata_CMs.obsm).copy()\n",
    "adata_out.write('./CMs_zfish_ven_RAW.h5ad')"
   ]
  },
  {
   "cell_type": "code",
   "execution_count": null,
   "metadata": {},
   "outputs": [],
   "source": [
    "adata_out = anndata.AnnData(X=adata_ECs.raw.X, obs=adata_ECs.obs, var=adata_ECs.raw.var, obsm=adata_ECs.obsm).copy()\n",
    "adata_out.write('./ECs_zfish_ven_RAW.h5ad')"
   ]
  },
  {
   "cell_type": "code",
   "execution_count": null,
   "metadata": {},
   "outputs": [],
   "source": [
    "adata_out = anndata.AnnData(X=adata_EC2s.raw.X, obs=adata_EC2s.obs, var=adata_EC2s.raw.var, obsm=adata_EC2s.obsm).copy()\n",
    "adata_out.write('./EC2s_zfish_ven_RAW.h5ad')"
   ]
  },
  {
   "cell_type": "code",
   "execution_count": null,
   "metadata": {},
   "outputs": [],
   "source": [
    "adata_orig.obs['cell_type'].cat.categories"
   ]
  },
  {
   "cell_type": "code",
   "execution_count": null,
   "metadata": {},
   "outputs": [],
   "source": [
    "adata_orig.obs['cell_type'] = adata_orig.obs['cell_type'].astype(str)\n",
    "old_names = ['AV/ Ventricular Conduction Cells', 'CM1', 'CM2', 'CM4',\n",
    "       'Endothelial Cells', 'Endothelial Cells 2', 'Erythrocytes',\n",
    "       'Fibroblasts', 'Immune Cells', 'Pericytes', 'Vasculature Cells']\n",
    "new_names = ['AV/ Ventricular Conduction Cells', 'Cardiac Myocyte 1', 'Cardiac Myocyte 2', 'Cardiac Myocyte 3',\n",
    "       'Endothelial Cells', 'Endothelial Cells 2', 'Erythrocytes',\n",
    "       'Fibroblasts', 'Immune Cells', 'Pericytes', 'Vasculature Cells']\n",
    "adata_orig.obs['cell_type'] = adata_orig.obs['cell_type'].map(dict(zip(old_names, new_names))).astype('category')"
   ]
  },
  {
   "cell_type": "code",
   "execution_count": null,
   "metadata": {},
   "outputs": [],
   "source": [
    "sc.pl.umap(adata_orig, color = ['cell_type',\n",
    "                              ], size = 6, legend_fontsize = 10, frameon = False, use_raw=True, color_map='tab10' )"
   ]
  },
  {
   "cell_type": "code",
   "execution_count": null,
   "metadata": {},
   "outputs": [],
   "source": [
    "sc.pl.umap(adata_orig, color='cell_type', legend_loc='on data',\n",
    "           frameon=False, legend_fontsize=6)"
   ]
  },
  {
   "cell_type": "code",
   "execution_count": null,
   "metadata": {},
   "outputs": [],
   "source": []
  },
  {
   "cell_type": "code",
   "execution_count": null,
   "metadata": {},
   "outputs": [],
   "source": []
  }
 ],
 "metadata": {
  "kernelspec": {
   "display_name": "Python [conda env:scanpy2]",
   "language": "python",
   "name": "conda-env-scanpy2-py"
  },
  "language_info": {
   "codemirror_mode": {
    "name": "ipython",
    "version": 3
   },
   "file_extension": ".py",
   "mimetype": "text/x-python",
   "name": "python",
   "nbconvert_exporter": "python",
   "pygments_lexer": "ipython3",
   "version": "3.6.10"
  }
 },
 "nbformat": 4,
 "nbformat_minor": 2
}
